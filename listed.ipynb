{
 "cells": [
  {
   "cell_type": "raw",
   "id": "5c3279b1",
   "metadata": {},
   "source": [
    "Task\n",
    "\n",
    "Create a web crawler using python that is able to scrape first 10,000 results for the following\n",
    "google search input - site:youtube.com openinapp.co\n",
    "\n",
    "Collect all the given YouTube links of the above search link.\n",
    "\n",
    "Give the results in the JSON/CSV format.\n",
    "\n",
    "Note - Links should be of YouTube channel instead of scraping youtube video links."
   ]
  },
  {
   "cell_type": "code",
   "execution_count": 29,
   "id": "aed5cdfd",
   "metadata": {},
   "outputs": [],
   "source": [
    "# import libraries\n",
    "\n",
    "import csv\n",
    "import os\n",
    "import pandas as pd\n",
    "from selenium import webdriver\n",
    "from selenium import webdriver\n",
    "from selenium.webdriver.chrome.options import Options\n",
    "from selenium.webdriver.common.keys import Keys\n",
    "from selenium.webdriver.common.by import By\n",
    "from IPython.display import clear_output\n",
    "from tqdm import tqdm"
   ]
  },
  {
   "cell_type": "code",
   "execution_count": 34,
   "id": "7f5fb786",
   "metadata": {},
   "outputs": [],
   "source": [
    "# initiallize query and max number of records\n",
    "\n",
    "query = \"site:youtube.com openinapp.co\"\n",
    "max_records = 10000\n",
    "filename = 'video_links.csv'\n",
    "current_count = 0\n",
    "page_number = 2"
   ]
  },
  {
   "cell_type": "code",
   "execution_count": 35,
   "id": "f0084653",
   "metadata": {
    "collapsed": true
   },
   "outputs": [
    {
     "name": "stdout",
     "output_type": "stream",
     "text": [
      "8 2\n",
      "Message: no such element: Unable to locate element: {\"method\":\"link text\",\"selector\":\"Next\"}\n",
      "  (Session info: chrome=114.0.5735.134); For documentation on this error, please visit: https://www.selenium.dev/documentation/webdriver/troubleshooting/errors#no-such-element-exception\n",
      "Stacktrace:\n",
      "Backtrace:\n",
      "\tGetHandleVerifier [0x0025A813+48355]\n",
      "\t(No symbol) [0x001EC4B1]\n",
      "\t(No symbol) [0x000F5358]\n",
      "\t(No symbol) [0x001209A5]\n",
      "\t(No symbol) [0x00120B3B]\n",
      "\t(No symbol) [0x0014E232]\n",
      "\t(No symbol) [0x0013A784]\n",
      "\t(No symbol) [0x0014C922]\n",
      "\t(No symbol) [0x0013A536]\n",
      "\t(No symbol) [0x001182DC]\n",
      "\t(No symbol) [0x001193DD]\n",
      "\tGetHandleVerifier [0x004BAABD+2539405]\n",
      "\tGetHandleVerifier [0x004FA78F+2800735]\n",
      "\tGetHandleVerifier [0x004F456C+2775612]\n",
      "\tGetHandleVerifier [0x002E51E0+616112]\n",
      "\t(No symbol) [0x001F5F8C]\n",
      "\t(No symbol) [0x001F2328]\n",
      "\t(No symbol) [0x001F240B]\n",
      "\t(No symbol) [0x001E4FF7]\n",
      "\tBaseThreadInitThunk [0x76897D59+25]\n",
      "\tRtlInitializeExceptionChain [0x77BEB74B+107]\n",
      "\tRtlClearBits [0x77BEB6CF+191]\n",
      "\t(No symbol) [0x00000000]\n",
      "\n"
     ]
    },
    {
     "ename": "NoSuchElementException",
     "evalue": "Message: no such element: Unable to locate element: {\"method\":\"link text\",\"selector\":\"repeat the search with the omitted results included\"}\n  (Session info: chrome=114.0.5735.134); For documentation on this error, please visit: https://www.selenium.dev/documentation/webdriver/troubleshooting/errors#no-such-element-exception\nStacktrace:\nBacktrace:\n\tGetHandleVerifier [0x0025A813+48355]\n\t(No symbol) [0x001EC4B1]\n\t(No symbol) [0x000F5358]\n\t(No symbol) [0x001209A5]\n\t(No symbol) [0x00120B3B]\n\t(No symbol) [0x0014E232]\n\t(No symbol) [0x0013A784]\n\t(No symbol) [0x0014C922]\n\t(No symbol) [0x0013A536]\n\t(No symbol) [0x001182DC]\n\t(No symbol) [0x001193DD]\n\tGetHandleVerifier [0x004BAABD+2539405]\n\tGetHandleVerifier [0x004FA78F+2800735]\n\tGetHandleVerifier [0x004F456C+2775612]\n\tGetHandleVerifier [0x002E51E0+616112]\n\t(No symbol) [0x001F5F8C]\n\t(No symbol) [0x001F2328]\n\t(No symbol) [0x001F240B]\n\t(No symbol) [0x001E4FF7]\n\tBaseThreadInitThunk [0x76897D59+25]\n\tRtlInitializeExceptionChain [0x77BEB74B+107]\n\tRtlClearBits [0x77BEB6CF+191]\n\t(No symbol) [0x00000000]\n",
     "output_type": "error",
     "traceback": [
      "\u001b[1;31m---------------------------------------------------------------------------\u001b[0m",
      "\u001b[1;31mNoSuchElementException\u001b[0m                    Traceback (most recent call last)",
      "\u001b[1;32m~\\AppData\\Local\\Temp\\ipykernel_6356\\1133852263.py\u001b[0m in \u001b[0;36mget_links\u001b[1;34m()\u001b[0m\n\u001b[0;32m     36\u001b[0m             \u001b[0mdriver\u001b[0m\u001b[1;33m.\u001b[0m\u001b[0mimplicitly_wait\u001b[0m\u001b[1;33m(\u001b[0m\u001b[1;36m10\u001b[0m\u001b[1;33m)\u001b[0m\u001b[1;33m\u001b[0m\u001b[1;33m\u001b[0m\u001b[0m\n\u001b[1;32m---> 37\u001b[1;33m             \u001b[0mnext_page\u001b[0m \u001b[1;33m=\u001b[0m \u001b[0mdriver\u001b[0m\u001b[1;33m.\u001b[0m\u001b[0mfind_element\u001b[0m\u001b[1;33m(\u001b[0m\u001b[0mBy\u001b[0m\u001b[1;33m.\u001b[0m\u001b[0mLINK_TEXT\u001b[0m\u001b[1;33m,\u001b[0m \u001b[1;34m\"Next\"\u001b[0m\u001b[1;33m)\u001b[0m\u001b[1;33m\u001b[0m\u001b[1;33m\u001b[0m\u001b[0m\n\u001b[0m\u001b[0;32m     38\u001b[0m             \u001b[0mnext_page\u001b[0m\u001b[1;33m.\u001b[0m\u001b[0mclick\u001b[0m\u001b[1;33m(\u001b[0m\u001b[1;33m)\u001b[0m\u001b[1;33m\u001b[0m\u001b[1;33m\u001b[0m\u001b[0m\n",
      "\u001b[1;32m~\\anaconda3\\lib\\site-packages\\selenium\\webdriver\\remote\\webdriver.py\u001b[0m in \u001b[0;36mfind_element\u001b[1;34m(self, by, value)\u001b[0m\n\u001b[0;32m    739\u001b[0m \u001b[1;33m\u001b[0m\u001b[0m\n\u001b[1;32m--> 740\u001b[1;33m         \u001b[1;32mreturn\u001b[0m \u001b[0mself\u001b[0m\u001b[1;33m.\u001b[0m\u001b[0mexecute\u001b[0m\u001b[1;33m(\u001b[0m\u001b[0mCommand\u001b[0m\u001b[1;33m.\u001b[0m\u001b[0mFIND_ELEMENT\u001b[0m\u001b[1;33m,\u001b[0m \u001b[1;33m{\u001b[0m\u001b[1;34m\"using\"\u001b[0m\u001b[1;33m:\u001b[0m \u001b[0mby\u001b[0m\u001b[1;33m,\u001b[0m \u001b[1;34m\"value\"\u001b[0m\u001b[1;33m:\u001b[0m \u001b[0mvalue\u001b[0m\u001b[1;33m}\u001b[0m\u001b[1;33m)\u001b[0m\u001b[1;33m[\u001b[0m\u001b[1;34m\"value\"\u001b[0m\u001b[1;33m]\u001b[0m\u001b[1;33m\u001b[0m\u001b[1;33m\u001b[0m\u001b[0m\n\u001b[0m\u001b[0;32m    741\u001b[0m \u001b[1;33m\u001b[0m\u001b[0m\n",
      "\u001b[1;32m~\\anaconda3\\lib\\site-packages\\selenium\\webdriver\\remote\\webdriver.py\u001b[0m in \u001b[0;36mexecute\u001b[1;34m(self, driver_command, params)\u001b[0m\n\u001b[0;32m    345\u001b[0m         \u001b[1;32mif\u001b[0m \u001b[0mresponse\u001b[0m\u001b[1;33m:\u001b[0m\u001b[1;33m\u001b[0m\u001b[1;33m\u001b[0m\u001b[0m\n\u001b[1;32m--> 346\u001b[1;33m             \u001b[0mself\u001b[0m\u001b[1;33m.\u001b[0m\u001b[0merror_handler\u001b[0m\u001b[1;33m.\u001b[0m\u001b[0mcheck_response\u001b[0m\u001b[1;33m(\u001b[0m\u001b[0mresponse\u001b[0m\u001b[1;33m)\u001b[0m\u001b[1;33m\u001b[0m\u001b[1;33m\u001b[0m\u001b[0m\n\u001b[0m\u001b[0;32m    347\u001b[0m             \u001b[0mresponse\u001b[0m\u001b[1;33m[\u001b[0m\u001b[1;34m\"value\"\u001b[0m\u001b[1;33m]\u001b[0m \u001b[1;33m=\u001b[0m \u001b[0mself\u001b[0m\u001b[1;33m.\u001b[0m\u001b[0m_unwrap_value\u001b[0m\u001b[1;33m(\u001b[0m\u001b[0mresponse\u001b[0m\u001b[1;33m.\u001b[0m\u001b[0mget\u001b[0m\u001b[1;33m(\u001b[0m\u001b[1;34m\"value\"\u001b[0m\u001b[1;33m,\u001b[0m \u001b[1;32mNone\u001b[0m\u001b[1;33m)\u001b[0m\u001b[1;33m)\u001b[0m\u001b[1;33m\u001b[0m\u001b[1;33m\u001b[0m\u001b[0m\n",
      "\u001b[1;32m~\\anaconda3\\lib\\site-packages\\selenium\\webdriver\\remote\\errorhandler.py\u001b[0m in \u001b[0;36mcheck_response\u001b[1;34m(self, response)\u001b[0m\n\u001b[0;32m    244\u001b[0m             \u001b[1;32mraise\u001b[0m \u001b[0mexception_class\u001b[0m\u001b[1;33m(\u001b[0m\u001b[0mmessage\u001b[0m\u001b[1;33m,\u001b[0m \u001b[0mscreen\u001b[0m\u001b[1;33m,\u001b[0m \u001b[0mstacktrace\u001b[0m\u001b[1;33m,\u001b[0m \u001b[0malert_text\u001b[0m\u001b[1;33m)\u001b[0m  \u001b[1;31m# type: ignore[call-arg]  # mypy is not smart enough here\u001b[0m\u001b[1;33m\u001b[0m\u001b[1;33m\u001b[0m\u001b[0m\n\u001b[1;32m--> 245\u001b[1;33m         \u001b[1;32mraise\u001b[0m \u001b[0mexception_class\u001b[0m\u001b[1;33m(\u001b[0m\u001b[0mmessage\u001b[0m\u001b[1;33m,\u001b[0m \u001b[0mscreen\u001b[0m\u001b[1;33m,\u001b[0m \u001b[0mstacktrace\u001b[0m\u001b[1;33m)\u001b[0m\u001b[1;33m\u001b[0m\u001b[1;33m\u001b[0m\u001b[0m\n\u001b[0m",
      "\u001b[1;31mNoSuchElementException\u001b[0m: Message: no such element: Unable to locate element: {\"method\":\"link text\",\"selector\":\"Next\"}\n  (Session info: chrome=114.0.5735.134); For documentation on this error, please visit: https://www.selenium.dev/documentation/webdriver/troubleshooting/errors#no-such-element-exception\nStacktrace:\nBacktrace:\n\tGetHandleVerifier [0x0025A813+48355]\n\t(No symbol) [0x001EC4B1]\n\t(No symbol) [0x000F5358]\n\t(No symbol) [0x001209A5]\n\t(No symbol) [0x00120B3B]\n\t(No symbol) [0x0014E232]\n\t(No symbol) [0x0013A784]\n\t(No symbol) [0x0014C922]\n\t(No symbol) [0x0013A536]\n\t(No symbol) [0x001182DC]\n\t(No symbol) [0x001193DD]\n\tGetHandleVerifier [0x004BAABD+2539405]\n\tGetHandleVerifier [0x004FA78F+2800735]\n\tGetHandleVerifier [0x004F456C+2775612]\n\tGetHandleVerifier [0x002E51E0+616112]\n\t(No symbol) [0x001F5F8C]\n\t(No symbol) [0x001F2328]\n\t(No symbol) [0x001F240B]\n\t(No symbol) [0x001E4FF7]\n\tBaseThreadInitThunk [0x76897D59+25]\n\tRtlInitializeExceptionChain [0x77BEB74B+107]\n\tRtlClearBits [0x77BEB6CF+191]\n\t(No symbol) [0x00000000]\n",
      "\nDuring handling of the above exception, another exception occurred:\n",
      "\u001b[1;31mNoSuchElementException\u001b[0m                    Traceback (most recent call last)",
      "\u001b[1;32m~\\AppData\\Local\\Temp\\ipykernel_6356\\1133852263.py\u001b[0m in \u001b[0;36m<module>\u001b[1;34m\u001b[0m\n\u001b[0;32m     50\u001b[0m     \u001b[0mget_links\u001b[0m\u001b[1;33m(\u001b[0m\u001b[1;33m)\u001b[0m\u001b[1;33m\u001b[0m\u001b[1;33m\u001b[0m\u001b[0m\n\u001b[0;32m     51\u001b[0m \u001b[1;33m\u001b[0m\u001b[0m\n\u001b[1;32m---> 52\u001b[1;33m \u001b[0mget_links\u001b[0m\u001b[1;33m(\u001b[0m\u001b[1;33m)\u001b[0m\u001b[1;33m\u001b[0m\u001b[1;33m\u001b[0m\u001b[0m\n\u001b[0m",
      "\u001b[1;32m~\\AppData\\Local\\Temp\\ipykernel_6356\\1133852263.py\u001b[0m in \u001b[0;36mget_links\u001b[1;34m()\u001b[0m\n\u001b[0;32m     40\u001b[0m     \u001b[1;32mexcept\u001b[0m \u001b[0mException\u001b[0m \u001b[1;32mas\u001b[0m \u001b[0me\u001b[0m \u001b[1;33m:\u001b[0m\u001b[1;33m\u001b[0m\u001b[1;33m\u001b[0m\u001b[0m\n\u001b[0;32m     41\u001b[0m         \u001b[0mprint\u001b[0m\u001b[1;33m(\u001b[0m\u001b[0me\u001b[0m\u001b[1;33m)\u001b[0m\u001b[1;33m\u001b[0m\u001b[1;33m\u001b[0m\u001b[0m\n\u001b[1;32m---> 42\u001b[1;33m         \u001b[1;32mif\u001b[0m \u001b[0mdriver\u001b[0m\u001b[1;33m.\u001b[0m\u001b[0mfind_element\u001b[0m\u001b[1;33m(\u001b[0m\u001b[0mBy\u001b[0m\u001b[1;33m.\u001b[0m\u001b[0mLINK_TEXT\u001b[0m\u001b[1;33m,\u001b[0m \u001b[1;34m\"repeat the search with the omitted results included\"\u001b[0m\u001b[1;33m)\u001b[0m\u001b[1;33m:\u001b[0m\u001b[1;33m\u001b[0m\u001b[1;33m\u001b[0m\u001b[0m\n\u001b[0m\u001b[0;32m     43\u001b[0m             \u001b[0mdriver\u001b[0m\u001b[1;33m.\u001b[0m\u001b[0mfind_element\u001b[0m\u001b[1;33m(\u001b[0m\u001b[0mBy\u001b[0m\u001b[1;33m.\u001b[0m\u001b[0mLINK_TEXT\u001b[0m\u001b[1;33m,\u001b[0m \u001b[1;34m\"repeat the search with the omitted results included\"\u001b[0m\u001b[1;33m)\u001b[0m\u001b[1;33m.\u001b[0m\u001b[0mclick\u001b[0m\u001b[1;33m(\u001b[0m\u001b[1;33m)\u001b[0m\u001b[1;33m\u001b[0m\u001b[1;33m\u001b[0m\u001b[0m\n\u001b[0;32m     44\u001b[0m         \u001b[0mdriver\u001b[0m\u001b[1;33m.\u001b[0m\u001b[0mclose\u001b[0m\u001b[1;33m(\u001b[0m\u001b[1;33m)\u001b[0m\u001b[1;33m\u001b[0m\u001b[1;33m\u001b[0m\u001b[0m\n",
      "\u001b[1;32m~\\anaconda3\\lib\\site-packages\\selenium\\webdriver\\remote\\webdriver.py\u001b[0m in \u001b[0;36mfind_element\u001b[1;34m(self, by, value)\u001b[0m\n\u001b[0;32m    738\u001b[0m             \u001b[0mvalue\u001b[0m \u001b[1;33m=\u001b[0m \u001b[1;34mf'[name=\"{value}\"]'\u001b[0m\u001b[1;33m\u001b[0m\u001b[1;33m\u001b[0m\u001b[0m\n\u001b[0;32m    739\u001b[0m \u001b[1;33m\u001b[0m\u001b[0m\n\u001b[1;32m--> 740\u001b[1;33m         \u001b[1;32mreturn\u001b[0m \u001b[0mself\u001b[0m\u001b[1;33m.\u001b[0m\u001b[0mexecute\u001b[0m\u001b[1;33m(\u001b[0m\u001b[0mCommand\u001b[0m\u001b[1;33m.\u001b[0m\u001b[0mFIND_ELEMENT\u001b[0m\u001b[1;33m,\u001b[0m \u001b[1;33m{\u001b[0m\u001b[1;34m\"using\"\u001b[0m\u001b[1;33m:\u001b[0m \u001b[0mby\u001b[0m\u001b[1;33m,\u001b[0m \u001b[1;34m\"value\"\u001b[0m\u001b[1;33m:\u001b[0m \u001b[0mvalue\u001b[0m\u001b[1;33m}\u001b[0m\u001b[1;33m)\u001b[0m\u001b[1;33m[\u001b[0m\u001b[1;34m\"value\"\u001b[0m\u001b[1;33m]\u001b[0m\u001b[1;33m\u001b[0m\u001b[1;33m\u001b[0m\u001b[0m\n\u001b[0m\u001b[0;32m    741\u001b[0m \u001b[1;33m\u001b[0m\u001b[0m\n\u001b[0;32m    742\u001b[0m     \u001b[1;32mdef\u001b[0m \u001b[0mfind_elements\u001b[0m\u001b[1;33m(\u001b[0m\u001b[0mself\u001b[0m\u001b[1;33m,\u001b[0m \u001b[0mby\u001b[0m\u001b[1;33m=\u001b[0m\u001b[0mBy\u001b[0m\u001b[1;33m.\u001b[0m\u001b[0mID\u001b[0m\u001b[1;33m,\u001b[0m \u001b[0mvalue\u001b[0m\u001b[1;33m:\u001b[0m \u001b[0mOptional\u001b[0m\u001b[1;33m[\u001b[0m\u001b[0mstr\u001b[0m\u001b[1;33m]\u001b[0m \u001b[1;33m=\u001b[0m \u001b[1;32mNone\u001b[0m\u001b[1;33m)\u001b[0m \u001b[1;33m->\u001b[0m \u001b[0mList\u001b[0m\u001b[1;33m[\u001b[0m\u001b[0mWebElement\u001b[0m\u001b[1;33m]\u001b[0m\u001b[1;33m:\u001b[0m\u001b[1;33m\u001b[0m\u001b[1;33m\u001b[0m\u001b[0m\n",
      "\u001b[1;32m~\\anaconda3\\lib\\site-packages\\selenium\\webdriver\\remote\\webdriver.py\u001b[0m in \u001b[0;36mexecute\u001b[1;34m(self, driver_command, params)\u001b[0m\n\u001b[0;32m    344\u001b[0m         \u001b[0mresponse\u001b[0m \u001b[1;33m=\u001b[0m \u001b[0mself\u001b[0m\u001b[1;33m.\u001b[0m\u001b[0mcommand_executor\u001b[0m\u001b[1;33m.\u001b[0m\u001b[0mexecute\u001b[0m\u001b[1;33m(\u001b[0m\u001b[0mdriver_command\u001b[0m\u001b[1;33m,\u001b[0m \u001b[0mparams\u001b[0m\u001b[1;33m)\u001b[0m\u001b[1;33m\u001b[0m\u001b[1;33m\u001b[0m\u001b[0m\n\u001b[0;32m    345\u001b[0m         \u001b[1;32mif\u001b[0m \u001b[0mresponse\u001b[0m\u001b[1;33m:\u001b[0m\u001b[1;33m\u001b[0m\u001b[1;33m\u001b[0m\u001b[0m\n\u001b[1;32m--> 346\u001b[1;33m             \u001b[0mself\u001b[0m\u001b[1;33m.\u001b[0m\u001b[0merror_handler\u001b[0m\u001b[1;33m.\u001b[0m\u001b[0mcheck_response\u001b[0m\u001b[1;33m(\u001b[0m\u001b[0mresponse\u001b[0m\u001b[1;33m)\u001b[0m\u001b[1;33m\u001b[0m\u001b[1;33m\u001b[0m\u001b[0m\n\u001b[0m\u001b[0;32m    347\u001b[0m             \u001b[0mresponse\u001b[0m\u001b[1;33m[\u001b[0m\u001b[1;34m\"value\"\u001b[0m\u001b[1;33m]\u001b[0m \u001b[1;33m=\u001b[0m \u001b[0mself\u001b[0m\u001b[1;33m.\u001b[0m\u001b[0m_unwrap_value\u001b[0m\u001b[1;33m(\u001b[0m\u001b[0mresponse\u001b[0m\u001b[1;33m.\u001b[0m\u001b[0mget\u001b[0m\u001b[1;33m(\u001b[0m\u001b[1;34m\"value\"\u001b[0m\u001b[1;33m,\u001b[0m \u001b[1;32mNone\u001b[0m\u001b[1;33m)\u001b[0m\u001b[1;33m)\u001b[0m\u001b[1;33m\u001b[0m\u001b[1;33m\u001b[0m\u001b[0m\n\u001b[0;32m    348\u001b[0m             \u001b[1;32mreturn\u001b[0m \u001b[0mresponse\u001b[0m\u001b[1;33m\u001b[0m\u001b[1;33m\u001b[0m\u001b[0m\n",
      "\u001b[1;32m~\\anaconda3\\lib\\site-packages\\selenium\\webdriver\\remote\\errorhandler.py\u001b[0m in \u001b[0;36mcheck_response\u001b[1;34m(self, response)\u001b[0m\n\u001b[0;32m    243\u001b[0m                 \u001b[0malert_text\u001b[0m \u001b[1;33m=\u001b[0m \u001b[0mvalue\u001b[0m\u001b[1;33m[\u001b[0m\u001b[1;34m\"alert\"\u001b[0m\u001b[1;33m]\u001b[0m\u001b[1;33m.\u001b[0m\u001b[0mget\u001b[0m\u001b[1;33m(\u001b[0m\u001b[1;34m\"text\"\u001b[0m\u001b[1;33m)\u001b[0m\u001b[1;33m\u001b[0m\u001b[1;33m\u001b[0m\u001b[0m\n\u001b[0;32m    244\u001b[0m             \u001b[1;32mraise\u001b[0m \u001b[0mexception_class\u001b[0m\u001b[1;33m(\u001b[0m\u001b[0mmessage\u001b[0m\u001b[1;33m,\u001b[0m \u001b[0mscreen\u001b[0m\u001b[1;33m,\u001b[0m \u001b[0mstacktrace\u001b[0m\u001b[1;33m,\u001b[0m \u001b[0malert_text\u001b[0m\u001b[1;33m)\u001b[0m  \u001b[1;31m# type: ignore[call-arg]  # mypy is not smart enough here\u001b[0m\u001b[1;33m\u001b[0m\u001b[1;33m\u001b[0m\u001b[0m\n\u001b[1;32m--> 245\u001b[1;33m         \u001b[1;32mraise\u001b[0m \u001b[0mexception_class\u001b[0m\u001b[1;33m(\u001b[0m\u001b[0mmessage\u001b[0m\u001b[1;33m,\u001b[0m \u001b[0mscreen\u001b[0m\u001b[1;33m,\u001b[0m \u001b[0mstacktrace\u001b[0m\u001b[1;33m)\u001b[0m\u001b[1;33m\u001b[0m\u001b[1;33m\u001b[0m\u001b[0m\n\u001b[0m",
      "\u001b[1;31mNoSuchElementException\u001b[0m: Message: no such element: Unable to locate element: {\"method\":\"link text\",\"selector\":\"repeat the search with the omitted results included\"}\n  (Session info: chrome=114.0.5735.134); For documentation on this error, please visit: https://www.selenium.dev/documentation/webdriver/troubleshooting/errors#no-such-element-exception\nStacktrace:\nBacktrace:\n\tGetHandleVerifier [0x0025A813+48355]\n\t(No symbol) [0x001EC4B1]\n\t(No symbol) [0x000F5358]\n\t(No symbol) [0x001209A5]\n\t(No symbol) [0x00120B3B]\n\t(No symbol) [0x0014E232]\n\t(No symbol) [0x0013A784]\n\t(No symbol) [0x0014C922]\n\t(No symbol) [0x0013A536]\n\t(No symbol) [0x001182DC]\n\t(No symbol) [0x001193DD]\n\tGetHandleVerifier [0x004BAABD+2539405]\n\tGetHandleVerifier [0x004FA78F+2800735]\n\tGetHandleVerifier [0x004F456C+2775612]\n\tGetHandleVerifier [0x002E51E0+616112]\n\t(No symbol) [0x001F5F8C]\n\t(No symbol) [0x001F2328]\n\t(No symbol) [0x001F240B]\n\t(No symbol) [0x001E4FF7]\n\tBaseThreadInitThunk [0x76897D59+25]\n\tRtlInitializeExceptionChain [0x77BEB74B+107]\n\tRtlClearBits [0x77BEB6CF+191]\n\t(No symbol) [0x00000000]\n"
     ]
    }
   ],
   "source": [
    "url = f\"https://www.google.com/search?q={query}\"\n",
    "\n",
    "\n",
    "chrome_options = Options()\n",
    "# chrome_options.add_argument(\"--headless\")\n",
    "chrome_options.add_experimental_option(\"detach\", True)\n",
    "driver = webdriver.Chrome(options = chrome_options)\n",
    "driver.get(url)\n",
    "\n",
    "\n",
    "def get_links():\n",
    "    global current_count,page_number,driver\n",
    "    \n",
    "    # fetch youtube video links\n",
    "    list_of_links=set()\n",
    "    links = driver.find_elements('xpath','//a')\n",
    "    for link in links:\n",
    "        if \"www.youtube.com\" in str(link.get_attribute(\"href\")) and \"post\" not in str(link.get_attribute(\"href\")):\n",
    "                list_of_links.add(link.get_attribute(\"href\"))\n",
    "    \n",
    "    # save links in csv file\n",
    "    with open(filename, 'a+', newline='') as csv_file:\n",
    "        writer = csv.writer(csv_file)\n",
    "        for i in list_of_links:\n",
    "            writer.writerows([[i]])\n",
    "    current_count += len(list_of_links)\n",
    "    \n",
    "    # this program monitors the progress and terminates the program max_records are fetched\n",
    "    clear_output(wait=True)\n",
    "    print(current_count,page_number)\n",
    "    if current_count > max_records:\n",
    "        print(f\"{max_records} records have been fetched successfully\")\n",
    "        driver.close()\n",
    "        return\n",
    "    \n",
    "    # shifts to next available page\n",
    "    try:\n",
    "        while True:\n",
    "            driver.implicitly_wait(10)\n",
    "            next_page = driver.find_element(By.LINK_TEXT, \"Next\")\n",
    "            next_page.click()\n",
    "            page_number += 1\n",
    "    except Exception as e :\n",
    "        print(e)\n",
    "        if driver.find_element(By.LINK_TEXT, \"repeat the search with the omitted results included\"):\n",
    "            driver.find_element(By.LINK_TEXT, \"repeat the search with the omitted results included\").click()\n",
    "        driver.close()\n",
    "        chrome_options = Options()\n",
    "#         chrome_options.add_argument(\"--headless\")\n",
    "        chrome_options.add_experimental_option(\"detach\", True)\n",
    "        driver = webdriver.Chrome(options = chrome_options)\n",
    "        driver.get(url)\n",
    "    get_links()\n",
    "\n",
    "get_links()"
   ]
  },
  {
   "cell_type": "code",
   "execution_count": 36,
   "id": "fd53f7c3",
   "metadata": {},
   "outputs": [],
   "source": [
    "csv_filename = 'channel_links.csv'\n",
    "filename = 'video_links.csv'\n",
    "\n",
    "def get_channel_links():\n",
    "    df = pd.read_csv(filename,header=None)\n",
    "    with open(csv_filename, 'a+', newline='') as csv_file:\n",
    "        writer = csv.writer(csv_file)        \n",
    "        for i in tqdm(range(len(df))):\n",
    "            url = df.loc[i][0]\n",
    "            \n",
    "            # check if the link is channel link\n",
    "            if 'watch?' not in url:\n",
    "                writer.writerows([[channel_link]])\n",
    "                continue\n",
    "            \n",
    "            chrome_options = Options()\n",
    "            chrome_options.add_argument(\"--headless\")\n",
    "            chrome_options.add_experimental_option(\"detach\", True)\n",
    "            driver = webdriver.Chrome(options = chrome_options)\n",
    "            driver.get(url)\n",
    "            driver.implicitly_wait(30)\n",
    "            channel_link = driver.find_elements('xpath','//a[contains(@class,\"yt-simple-endpoint style-scope ytd-video-owner-renderer\")]')[0].get_attribute(\"href\")\n",
    "            writer.writerows([[channel_link]])\n",
    "            driver.close()\n",
    "        \n"
   ]
  },
  {
   "cell_type": "code",
   "execution_count": 37,
   "id": "aee0e3d0",
   "metadata": {},
   "outputs": [
    {
     "name": "stderr",
     "output_type": "stream",
     "text": [
      "100%|████████████████████████████████████████████████████████████████████████████████| 419/419 [43:21<00:00,  6.21s/it]\n"
     ]
    }
   ],
   "source": [
    "\n",
    "get_channel_links()"
   ]
  },
  {
   "cell_type": "code",
   "execution_count": null,
   "id": "3ad1c5ba",
   "metadata": {},
   "outputs": [],
   "source": []
  }
 ],
 "metadata": {
  "kernelspec": {
   "display_name": "Python 3 (ipykernel)",
   "language": "python",
   "name": "python3"
  },
  "language_info": {
   "codemirror_mode": {
    "name": "ipython",
    "version": 3
   },
   "file_extension": ".py",
   "mimetype": "text/x-python",
   "name": "python",
   "nbconvert_exporter": "python",
   "pygments_lexer": "ipython3",
   "version": "3.9.13"
  }
 },
 "nbformat": 4,
 "nbformat_minor": 5
}
